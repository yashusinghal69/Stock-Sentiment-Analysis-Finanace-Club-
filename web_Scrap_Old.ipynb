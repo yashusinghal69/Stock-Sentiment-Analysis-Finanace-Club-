{
 "cells": [
  {
   "cell_type": "code",
   "execution_count": 16,
   "metadata": {},
   "outputs": [],
   "source": [
    "# !pip install bs4 lxml pandas numpy requests\n",
    "# !pip install yfinance\n",
    "# !pip install yahoofinancials\n",
    "# !pip install transformers -U"
   ]
  },
  {
   "cell_type": "code",
   "execution_count": 1,
   "metadata": {},
   "outputs": [],
   "source": [
    "from bs4 import BeautifulSoup\n",
    "import requests\n",
    "import pandas as pd\n",
    "import numpy as np\n",
    "\n",
    "import yfinance as yf\n",
    "from yahoofinancials import YahooFinancials\n",
    "\n",
    "# from transformers import pipeline\n",
    "import warnings\n",
    "warnings.filterwarnings(\"ignore\")"
   ]
  },
  {
   "cell_type": "code",
   "execution_count": 3,
   "metadata": {},
   "outputs": [
    {
     "name": "stdout",
     "output_type": "stream",
     "text": [
      "2450 headlines scraped from 50 pages\n"
     ]
    }
   ],
   "source": [
    "columns = ['datetime','ticker','source', 'title' ]\n",
    "df = pd.DataFrame(columns=columns)\n",
    "\n",
    "\n",
    "#https://markets.businessinsider.com/news/nvda-stock?p={page}  ->> Nvidia stock news\n",
    "#https://markets.businessinsider.com/news/amzn-stock?p={page}  ->> Amazon stock news\n",
    "#https://markets.businessinsider.com/news/tsla-stock?p={page}   ->> Tesla stock news\n",
    "# https://markets.businessinsider.com/news/googl-stock?p={page}  ->> Google stock news\n",
    "#https://markets.businessinsider.com/news/adbe-stock?p={page} ->> Adobe stock news\n",
    "#https://markets.businessinsider.com/news/axp-stock?p={page}  ->> American Express stock news\n",
    "#https://markets.businessinsider.com/news/meta-stock?p={page}     ->> Meta stock news\n",
    "#https://markets.businessinsider.com/news/spot-stock?p={page}     ->> Spotify stock news\n",
    "#https://markets.businessinsider.com/news/msft-stock?p={page}     ->> Microsoft stock news\n",
    "#https://markets.businessinsider.com/news/jpm-stock?p={page}  -->JPMorgan stock news\n",
    "\n",
    "\n",
    "counter = 0\n",
    "for page in range(1,200):\n",
    "   url = f'https://markets.businessinsider.com/news/googl-stock?p={page}'\n",
    "   response = requests.get(url)\n",
    "   html = response.text\n",
    "   soup = BeautifulSoup (html, 'lxml')\n",
    "   articles = soup.find_all('div', class_ = 'latest-news__story')\n",
    "   for article in articles:\n",
    "       datetime = article.find('time', class_ = 'latest-news__date').get('datetime')\n",
    "       title = article.find('a', class_ = 'news-link').text\n",
    "       source = article.find('span', class_ = 'latest-news__source').text\n",
    "    #  link = article.find('a', class_ = 'news-link').get('href')\n",
    "       ticker = 'GOOGL' # 'AMZN', 'TSLA', 'GOOGL', 'ADBE', 'AXP', 'META', 'NVDA' ,'SPOT' ,'MSFT' ,'JPM'\n",
    "       df = pd.concat([pd.DataFrame([[datetime,ticker, source,title]], columns=df.columns), df], ignore_index=True)\n",
    "       counter += 1\n",
    "\n",
    "\n",
    "print (f'{counter} headlines scraped from {page+1} pages')"
   ]
  },
  {
   "cell_type": "code",
   "execution_count": 5,
   "metadata": {},
   "outputs": [],
   "source": [
    "df['datetime'] = pd.to_datetime(df['datetime'])"
   ]
  },
  {
   "cell_type": "code",
   "execution_count": 6,
   "metadata": {},
   "outputs": [
    {
     "name": "stdout",
     "output_type": "stream",
     "text": [
      "(2450, 4)\n"
     ]
    },
    {
     "data": {
      "text/html": [
       "<div>\n",
       "<style scoped>\n",
       "    .dataframe tbody tr th:only-of-type {\n",
       "        vertical-align: middle;\n",
       "    }\n",
       "\n",
       "    .dataframe tbody tr th {\n",
       "        vertical-align: top;\n",
       "    }\n",
       "\n",
       "    .dataframe thead th {\n",
       "        text-align: right;\n",
       "    }\n",
       "</style>\n",
       "<table border=\"1\" class=\"dataframe\">\n",
       "  <thead>\n",
       "    <tr style=\"text-align: right;\">\n",
       "      <th></th>\n",
       "      <th>datetime</th>\n",
       "      <th>ticker</th>\n",
       "      <th>source</th>\n",
       "      <th>title</th>\n",
       "    </tr>\n",
       "  </thead>\n",
       "  <tbody>\n",
       "    <tr>\n",
       "      <th>0</th>\n",
       "      <td>2023-03-18 23:01:35</td>\n",
       "      <td>GOOGL</td>\n",
       "      <td>InvestorPlace</td>\n",
       "      <td>7 Best Stocks to Buy for a Sideways Market</td>\n",
       "    </tr>\n",
       "    <tr>\n",
       "      <th>1</th>\n",
       "      <td>2023-03-19 14:32:06</td>\n",
       "      <td>GOOGL</td>\n",
       "      <td>Seeking Alpha</td>\n",
       "      <td>Television usage dips in February - but stream...</td>\n",
       "    </tr>\n",
       "    <tr>\n",
       "      <th>2</th>\n",
       "      <td>2023-03-19 23:25:09</td>\n",
       "      <td>GOOGL</td>\n",
       "      <td>Benzinga</td>\n",
       "      <td>If You Invested $1,000 In Meta Platforms When ...</td>\n",
       "    </tr>\n",
       "    <tr>\n",
       "      <th>3</th>\n",
       "      <td>2023-03-20 06:50:59</td>\n",
       "      <td>GOOGL</td>\n",
       "      <td>Benzinga</td>\n",
       "      <td>Big Techs Race To Capitalize On AI, Says Munst...</td>\n",
       "    </tr>\n",
       "    <tr>\n",
       "      <th>4</th>\n",
       "      <td>2023-03-20 14:15:34</td>\n",
       "      <td>GOOGL</td>\n",
       "      <td>InvestorPlace</td>\n",
       "      <td>7 AI Stocks to Buy for Long-Term Growth</td>\n",
       "    </tr>\n",
       "  </tbody>\n",
       "</table>\n",
       "</div>"
      ],
      "text/plain": [
       "             datetime ticker         source  \\\n",
       "0 2023-03-18 23:01:35  GOOGL  InvestorPlace   \n",
       "1 2023-03-19 14:32:06  GOOGL  Seeking Alpha   \n",
       "2 2023-03-19 23:25:09  GOOGL       Benzinga   \n",
       "3 2023-03-20 06:50:59  GOOGL       Benzinga   \n",
       "4 2023-03-20 14:15:34  GOOGL  InvestorPlace   \n",
       "\n",
       "                                               title  \n",
       "0         7 Best Stocks to Buy for a Sideways Market  \n",
       "1  Television usage dips in February - but stream...  \n",
       "2  If You Invested $1,000 In Meta Platforms When ...  \n",
       "3  Big Techs Race To Capitalize On AI, Says Munst...  \n",
       "4            7 AI Stocks to Buy for Long-Term Growth  "
      ]
     },
     "execution_count": 6,
     "metadata": {},
     "output_type": "execute_result"
    }
   ],
   "source": [
    "print(df.shape)\n",
    "df.head()"
   ]
  },
  {
   "cell_type": "code",
   "execution_count": 7,
   "metadata": {},
   "outputs": [],
   "source": [
    "df['date'] = df['datetime'].dt.date\n",
    "df['time'] = df['datetime'].dt.time\n",
    "df.drop(columns=['datetime'], inplace=True)"
   ]
  },
  {
   "cell_type": "code",
   "execution_count": 8,
   "metadata": {},
   "outputs": [
    {
     "data": {
      "text/html": [
       "<div>\n",
       "<style scoped>\n",
       "    .dataframe tbody tr th:only-of-type {\n",
       "        vertical-align: middle;\n",
       "    }\n",
       "\n",
       "    .dataframe tbody tr th {\n",
       "        vertical-align: top;\n",
       "    }\n",
       "\n",
       "    .dataframe thead th {\n",
       "        text-align: right;\n",
       "    }\n",
       "</style>\n",
       "<table border=\"1\" class=\"dataframe\">\n",
       "  <thead>\n",
       "    <tr style=\"text-align: right;\">\n",
       "      <th></th>\n",
       "      <th>ticker</th>\n",
       "      <th>source</th>\n",
       "      <th>title</th>\n",
       "      <th>date</th>\n",
       "      <th>time</th>\n",
       "    </tr>\n",
       "  </thead>\n",
       "  <tbody>\n",
       "    <tr>\n",
       "      <th>0</th>\n",
       "      <td>GOOGL</td>\n",
       "      <td>InvestorPlace</td>\n",
       "      <td>7 Best Stocks to Buy for a Sideways Market</td>\n",
       "      <td>2023-03-18</td>\n",
       "      <td>23:01:35</td>\n",
       "    </tr>\n",
       "    <tr>\n",
       "      <th>1</th>\n",
       "      <td>GOOGL</td>\n",
       "      <td>Seeking Alpha</td>\n",
       "      <td>Television usage dips in February - but stream...</td>\n",
       "      <td>2023-03-19</td>\n",
       "      <td>14:32:06</td>\n",
       "    </tr>\n",
       "    <tr>\n",
       "      <th>2</th>\n",
       "      <td>GOOGL</td>\n",
       "      <td>Benzinga</td>\n",
       "      <td>If You Invested $1,000 In Meta Platforms When ...</td>\n",
       "      <td>2023-03-19</td>\n",
       "      <td>23:25:09</td>\n",
       "    </tr>\n",
       "    <tr>\n",
       "      <th>3</th>\n",
       "      <td>GOOGL</td>\n",
       "      <td>Benzinga</td>\n",
       "      <td>Big Techs Race To Capitalize On AI, Says Munst...</td>\n",
       "      <td>2023-03-20</td>\n",
       "      <td>06:50:59</td>\n",
       "    </tr>\n",
       "    <tr>\n",
       "      <th>4</th>\n",
       "      <td>GOOGL</td>\n",
       "      <td>InvestorPlace</td>\n",
       "      <td>7 AI Stocks to Buy for Long-Term Growth</td>\n",
       "      <td>2023-03-20</td>\n",
       "      <td>14:15:34</td>\n",
       "    </tr>\n",
       "  </tbody>\n",
       "</table>\n",
       "</div>"
      ],
      "text/plain": [
       "  ticker         source                                              title  \\\n",
       "0  GOOGL  InvestorPlace         7 Best Stocks to Buy for a Sideways Market   \n",
       "1  GOOGL  Seeking Alpha  Television usage dips in February - but stream...   \n",
       "2  GOOGL       Benzinga  If You Invested $1,000 In Meta Platforms When ...   \n",
       "3  GOOGL       Benzinga  Big Techs Race To Capitalize On AI, Says Munst...   \n",
       "4  GOOGL  InvestorPlace            7 AI Stocks to Buy for Long-Term Growth   \n",
       "\n",
       "         date      time  \n",
       "0  2023-03-18  23:01:35  \n",
       "1  2023-03-19  14:32:06  \n",
       "2  2023-03-19  23:25:09  \n",
       "3  2023-03-20  06:50:59  \n",
       "4  2023-03-20  14:15:34  "
      ]
     },
     "execution_count": 8,
     "metadata": {},
     "output_type": "execute_result"
    }
   ],
   "source": [
    "df.head()"
   ]
  },
  {
   "cell_type": "code",
   "execution_count": 9,
   "metadata": {},
   "outputs": [
    {
     "name": "stdout",
     "output_type": "stream",
     "text": [
      "['date', 'time', 'ticker', 'source', 'title']\n"
     ]
    }
   ],
   "source": [
    "cols = df.columns.tolist()  #['source', 'title', 'top_sentiment', 'sentiment_score', 'date', 'time']\n",
    "cols = cols[-2:] + cols[:-2]\n",
    "print(cols)"
   ]
  },
  {
   "cell_type": "code",
   "execution_count": 13,
   "metadata": {},
   "outputs": [
    {
     "data": {
      "text/html": [
       "<div>\n",
       "<style scoped>\n",
       "    .dataframe tbody tr th:only-of-type {\n",
       "        vertical-align: middle;\n",
       "    }\n",
       "\n",
       "    .dataframe tbody tr th {\n",
       "        vertical-align: top;\n",
       "    }\n",
       "\n",
       "    .dataframe thead th {\n",
       "        text-align: right;\n",
       "    }\n",
       "</style>\n",
       "<table border=\"1\" class=\"dataframe\">\n",
       "  <thead>\n",
       "    <tr style=\"text-align: right;\">\n",
       "      <th></th>\n",
       "      <th>date</th>\n",
       "      <th>time</th>\n",
       "      <th>ticker</th>\n",
       "      <th>source</th>\n",
       "      <th>title</th>\n",
       "    </tr>\n",
       "  </thead>\n",
       "  <tbody>\n",
       "    <tr>\n",
       "      <th>2445</th>\n",
       "      <td>2024-06-17</td>\n",
       "      <td>10:05:00</td>\n",
       "      <td>GOOGL</td>\n",
       "      <td>InvestorPlace</td>\n",
       "      <td>Forget Big AI: Apple’s Small AI Approach Could...</td>\n",
       "    </tr>\n",
       "    <tr>\n",
       "      <th>2446</th>\n",
       "      <td>2024-06-17</td>\n",
       "      <td>10:30:00</td>\n",
       "      <td>GOOGL</td>\n",
       "      <td>InvestorPlace</td>\n",
       "      <td>Alphabet Stock Buy Alert: Position Yourself fo...</td>\n",
       "    </tr>\n",
       "    <tr>\n",
       "      <th>2447</th>\n",
       "      <td>2024-06-17</td>\n",
       "      <td>11:30:00</td>\n",
       "      <td>GOOGL</td>\n",
       "      <td>InvestorPlace</td>\n",
       "      <td>Nvidia’s Midas Touch: 3 Data Storage Stocks Ba...</td>\n",
       "    </tr>\n",
       "    <tr>\n",
       "      <th>2448</th>\n",
       "      <td>2024-06-17</td>\n",
       "      <td>14:04:03</td>\n",
       "      <td>GOOGL</td>\n",
       "      <td>Benzinga</td>\n",
       "      <td>Broadcom's Cutting-Edge AI Networking Technolo...</td>\n",
       "    </tr>\n",
       "    <tr>\n",
       "      <th>2449</th>\n",
       "      <td>2024-06-17</td>\n",
       "      <td>14:06:37</td>\n",
       "      <td>GOOGL</td>\n",
       "      <td>Benzinga</td>\n",
       "      <td>This Analyst With 86% Accuracy Rate Sees Over ...</td>\n",
       "    </tr>\n",
       "  </tbody>\n",
       "</table>\n",
       "</div>"
      ],
      "text/plain": [
       "            date      time ticker         source  \\\n",
       "2445  2024-06-17  10:05:00  GOOGL  InvestorPlace   \n",
       "2446  2024-06-17  10:30:00  GOOGL  InvestorPlace   \n",
       "2447  2024-06-17  11:30:00  GOOGL  InvestorPlace   \n",
       "2448  2024-06-17  14:04:03  GOOGL       Benzinga   \n",
       "2449  2024-06-17  14:06:37  GOOGL       Benzinga   \n",
       "\n",
       "                                                  title  \n",
       "2445  Forget Big AI: Apple’s Small AI Approach Could...  \n",
       "2446  Alphabet Stock Buy Alert: Position Yourself fo...  \n",
       "2447  Nvidia’s Midas Touch: 3 Data Storage Stocks Ba...  \n",
       "2448  Broadcom's Cutting-Edge AI Networking Technolo...  \n",
       "2449  This Analyst With 86% Accuracy Rate Sees Over ...  "
      ]
     },
     "execution_count": 13,
     "metadata": {},
     "output_type": "execute_result"
    }
   ],
   "source": [
    "df = df[cols]\n",
    "df.tail(5)"
   ]
  },
  {
   "cell_type": "code",
   "execution_count": 12,
   "metadata": {},
   "outputs": [],
   "source": [
    "# df.to_csv('historical_nvidia_1.csv', index=False)\n",
    "# df.to_csv('historical_tsla_1.csv', index=False)\n",
    "# df.to_csv('historical_amazon_1.csv', index=False)\n",
    "# df.to_csv('historical_Google_1.csv', index=False)\n",
    "# df.to_csv('historical_adobe_1.csv', index=False)\n",
    "# df.to_csv('historical_axp_1.csv', index=False)\n",
    "# df.to_csv('historical_meta_1.csv', index=False)\n",
    "# df.to_csv('historical_spotify_1.csv', index=False)\n",
    "# df.to_csv('historical_microsoft_1.csv', index=False)\n",
    "# df.to_csv('historical_jpmorgan_1.csv', index=False)\n",
    "df.to_csv('backtraders_google.csv', index=False)"
   ]
  },
  {
   "cell_type": "markdown",
   "metadata": {},
   "source": [
    "# Combining all stocks in one  csv file"
   ]
  },
  {
   "cell_type": "markdown",
   "metadata": {},
   "source": [
    "#"
   ]
  },
  {
   "cell_type": "code",
   "execution_count": 181,
   "metadata": {},
   "outputs": [
    {
     "data": {
      "text/html": [
       "<div>\n",
       "<style scoped>\n",
       "    .dataframe tbody tr th:only-of-type {\n",
       "        vertical-align: middle;\n",
       "    }\n",
       "\n",
       "    .dataframe tbody tr th {\n",
       "        vertical-align: top;\n",
       "    }\n",
       "\n",
       "    .dataframe thead th {\n",
       "        text-align: right;\n",
       "    }\n",
       "</style>\n",
       "<table border=\"1\" class=\"dataframe\">\n",
       "  <thead>\n",
       "    <tr style=\"text-align: right;\">\n",
       "      <th></th>\n",
       "      <th>date</th>\n",
       "      <th>time</th>\n",
       "      <th>ticker</th>\n",
       "      <th>source</th>\n",
       "      <th>title</th>\n",
       "    </tr>\n",
       "  </thead>\n",
       "  <tbody>\n",
       "    <tr>\n",
       "      <th>0</th>\n",
       "      <td>2014-01-06</td>\n",
       "      <td>06:49:36</td>\n",
       "      <td>NVDA</td>\n",
       "      <td>Reuters</td>\n",
       "      <td>Nvidia CEO talks up mobile chips with brawny P...</td>\n",
       "    </tr>\n",
       "    <tr>\n",
       "      <th>1</th>\n",
       "      <td>2014-04-23</td>\n",
       "      <td>23:26:52</td>\n",
       "      <td>NVDA</td>\n",
       "      <td>Reuters</td>\n",
       "      <td>Ex-Nvidia manager settles U.S. SEC charges on ...</td>\n",
       "    </tr>\n",
       "    <tr>\n",
       "      <th>2</th>\n",
       "      <td>2015-06-01</td>\n",
       "      <td>05:31:48</td>\n",
       "      <td>NVDA</td>\n",
       "      <td>Reuters</td>\n",
       "      <td>Nvidia says it sees revenue from cloud computi...</td>\n",
       "    </tr>\n",
       "    <tr>\n",
       "      <th>3</th>\n",
       "      <td>2016-01-05</td>\n",
       "      <td>06:03:35</td>\n",
       "      <td>NVDA</td>\n",
       "      <td>Reuters</td>\n",
       "      <td>Nvidia says Volvo is first customer for new au...</td>\n",
       "    </tr>\n",
       "    <tr>\n",
       "      <th>4</th>\n",
       "      <td>2016-09-28</td>\n",
       "      <td>15:10:26</td>\n",
       "      <td>NVDA</td>\n",
       "      <td>Reuters</td>\n",
       "      <td>BRIEF-Nvidia and TomTom develop mapping system...</td>\n",
       "    </tr>\n",
       "    <tr>\n",
       "      <th>...</th>\n",
       "      <td>...</td>\n",
       "      <td>...</td>\n",
       "      <td>...</td>\n",
       "      <td>...</td>\n",
       "      <td>...</td>\n",
       "    </tr>\n",
       "    <tr>\n",
       "      <th>69780</th>\n",
       "      <td>2024-06-06</td>\n",
       "      <td>17:21:59</td>\n",
       "      <td>JPM</td>\n",
       "      <td>TipRanks</td>\n",
       "      <td>ICBC: China’s Banking Leader on the Global Stage</td>\n",
       "    </tr>\n",
       "    <tr>\n",
       "      <th>69781</th>\n",
       "      <td>2024-06-07</td>\n",
       "      <td>11:35:00</td>\n",
       "      <td>JPM</td>\n",
       "      <td>InvestorPlace</td>\n",
       "      <td>Look Out, Bears! Why Short Selling May Soon Di...</td>\n",
       "    </tr>\n",
       "    <tr>\n",
       "      <th>69782</th>\n",
       "      <td>2024-06-10</td>\n",
       "      <td>18:54:36</td>\n",
       "      <td>JPM</td>\n",
       "      <td>InvestorPlace</td>\n",
       "      <td>Trillion-Dollar Trio: The Next 3 Stocks to Joi...</td>\n",
       "    </tr>\n",
       "    <tr>\n",
       "      <th>69783</th>\n",
       "      <td>2024-06-10</td>\n",
       "      <td>19:16:50</td>\n",
       "      <td>JPM</td>\n",
       "      <td>Seeking Alpha</td>\n",
       "      <td>JPMorgan Chase hires former PayPal executive a...</td>\n",
       "    </tr>\n",
       "    <tr>\n",
       "      <th>69784</th>\n",
       "      <td>2024-06-11</td>\n",
       "      <td>10:15:00</td>\n",
       "      <td>JPM</td>\n",
       "      <td>InvestorPlace</td>\n",
       "      <td>3 Blue-Chip Stocks to Buy and Hold for Lifetim...</td>\n",
       "    </tr>\n",
       "  </tbody>\n",
       "</table>\n",
       "<p>69785 rows × 5 columns</p>\n",
       "</div>"
      ],
      "text/plain": [
       "             date      time ticker         source  \\\n",
       "0      2014-01-06  06:49:36   NVDA        Reuters   \n",
       "1      2014-04-23  23:26:52   NVDA        Reuters   \n",
       "2      2015-06-01  05:31:48   NVDA        Reuters   \n",
       "3      2016-01-05  06:03:35   NVDA        Reuters   \n",
       "4      2016-09-28  15:10:26   NVDA        Reuters   \n",
       "...           ...       ...    ...            ...   \n",
       "69780  2024-06-06  17:21:59    JPM       TipRanks   \n",
       "69781  2024-06-07  11:35:00    JPM  InvestorPlace   \n",
       "69782  2024-06-10  18:54:36    JPM  InvestorPlace   \n",
       "69783  2024-06-10  19:16:50    JPM  Seeking Alpha   \n",
       "69784  2024-06-11  10:15:00    JPM  InvestorPlace   \n",
       "\n",
       "                                                   title  \n",
       "0      Nvidia CEO talks up mobile chips with brawny P...  \n",
       "1      Ex-Nvidia manager settles U.S. SEC charges on ...  \n",
       "2      Nvidia says it sees revenue from cloud computi...  \n",
       "3      Nvidia says Volvo is first customer for new au...  \n",
       "4      BRIEF-Nvidia and TomTom develop mapping system...  \n",
       "...                                                  ...  \n",
       "69780   ICBC: China’s Banking Leader on the Global Stage  \n",
       "69781  Look Out, Bears! Why Short Selling May Soon Di...  \n",
       "69782  Trillion-Dollar Trio: The Next 3 Stocks to Joi...  \n",
       "69783  JPMorgan Chase hires former PayPal executive a...  \n",
       "69784  3 Blue-Chip Stocks to Buy and Hold for Lifetim...  \n",
       "\n",
       "[69785 rows x 5 columns]"
      ]
     },
     "execution_count": 181,
     "metadata": {},
     "output_type": "execute_result"
    }
   ],
   "source": [
    "all_csv_files = ['historical_nvidia_1.csv', 'historical_amazon_1.csv', 'historical_tsla_1.csv','historical_axp_1.csv','historical_Google_1.csv','historical_adobe_1.csv','historical_meta_1.csv','historical_spotify_1.csv','historical_microsoft_1.csv','historical_jpmorgan_1.csv']\n",
    "\n",
    "combined_stock_news = pd.concat([pd.read_csv(file) for file in all_csv_files ], ignore_index=True)\n",
    " \n",
    "combined_stock_news"
   ]
  },
  {
   "cell_type": "code",
   "execution_count": 182,
   "metadata": {},
   "outputs": [],
   "source": [
    "combined_stock_news.to_csv('combined_stock_news_1.csv')"
   ]
  },
  {
   "cell_type": "code",
   "execution_count": 2,
   "metadata": {},
   "outputs": [],
   "source": [
    "# combined_stock_news = pd.read_csv('combined_stock_news_1.csv')\n",
    "combined_stock_news = pd.read_csv('backtraders_google.csv')\n",
    "combined_stock_news.drop(columns=['time', 'source'],index=0, inplace=True)"
   ]
  },
  {
   "cell_type": "code",
   "execution_count": 3,
   "metadata": {},
   "outputs": [
    {
     "data": {
      "text/html": [
       "<div>\n",
       "<style scoped>\n",
       "    .dataframe tbody tr th:only-of-type {\n",
       "        vertical-align: middle;\n",
       "    }\n",
       "\n",
       "    .dataframe tbody tr th {\n",
       "        vertical-align: top;\n",
       "    }\n",
       "\n",
       "    .dataframe thead th {\n",
       "        text-align: right;\n",
       "    }\n",
       "</style>\n",
       "<table border=\"1\" class=\"dataframe\">\n",
       "  <thead>\n",
       "    <tr style=\"text-align: right;\">\n",
       "      <th></th>\n",
       "      <th>date</th>\n",
       "      <th>ticker</th>\n",
       "      <th>title</th>\n",
       "    </tr>\n",
       "  </thead>\n",
       "  <tbody>\n",
       "    <tr>\n",
       "      <th>1</th>\n",
       "      <td>2023-03-19</td>\n",
       "      <td>GOOGL</td>\n",
       "      <td>Television usage dips in February - but stream...</td>\n",
       "    </tr>\n",
       "    <tr>\n",
       "      <th>2</th>\n",
       "      <td>2023-03-19</td>\n",
       "      <td>GOOGL</td>\n",
       "      <td>If You Invested $1,000 In Meta Platforms When ...</td>\n",
       "    </tr>\n",
       "    <tr>\n",
       "      <th>3</th>\n",
       "      <td>2023-03-20</td>\n",
       "      <td>GOOGL</td>\n",
       "      <td>Big Techs Race To Capitalize On AI, Says Munst...</td>\n",
       "    </tr>\n",
       "    <tr>\n",
       "      <th>4</th>\n",
       "      <td>2023-03-20</td>\n",
       "      <td>GOOGL</td>\n",
       "      <td>7 AI Stocks to Buy for Long-Term Growth</td>\n",
       "    </tr>\n",
       "    <tr>\n",
       "      <th>5</th>\n",
       "      <td>2023-03-21</td>\n",
       "      <td>GOOGL</td>\n",
       "      <td>S&amp;P 500 Hits 4,000, Bank Stocks Soar, Treasury...</td>\n",
       "    </tr>\n",
       "  </tbody>\n",
       "</table>\n",
       "</div>"
      ],
      "text/plain": [
       "         date ticker                                              title\n",
       "1  2023-03-19  GOOGL  Television usage dips in February - but stream...\n",
       "2  2023-03-19  GOOGL  If You Invested $1,000 In Meta Platforms When ...\n",
       "3  2023-03-20  GOOGL  Big Techs Race To Capitalize On AI, Says Munst...\n",
       "4  2023-03-20  GOOGL            7 AI Stocks to Buy for Long-Term Growth\n",
       "5  2023-03-21  GOOGL  S&P 500 Hits 4,000, Bank Stocks Soar, Treasury..."
      ]
     },
     "execution_count": 3,
     "metadata": {},
     "output_type": "execute_result"
    }
   ],
   "source": [
    "combined_stock_news.head(5)"
   ]
  },
  {
   "cell_type": "code",
   "execution_count": 4,
   "metadata": {},
   "outputs": [],
   "source": [
    "combined_stock_news =  combined_stock_news.groupby(['date','ticker'])['title'].apply(' '.join).reset_index()"
   ]
  },
  {
   "cell_type": "code",
   "execution_count": 5,
   "metadata": {},
   "outputs": [
    {
     "name": "stdout",
     "output_type": "stream",
     "text": [
      "(415, 3)\n"
     ]
    },
    {
     "data": {
      "text/html": [
       "<div>\n",
       "<style scoped>\n",
       "    .dataframe tbody tr th:only-of-type {\n",
       "        vertical-align: middle;\n",
       "    }\n",
       "\n",
       "    .dataframe tbody tr th {\n",
       "        vertical-align: top;\n",
       "    }\n",
       "\n",
       "    .dataframe thead th {\n",
       "        text-align: right;\n",
       "    }\n",
       "</style>\n",
       "<table border=\"1\" class=\"dataframe\">\n",
       "  <thead>\n",
       "    <tr style=\"text-align: right;\">\n",
       "      <th></th>\n",
       "      <th>date</th>\n",
       "      <th>ticker</th>\n",
       "      <th>title</th>\n",
       "    </tr>\n",
       "  </thead>\n",
       "  <tbody>\n",
       "    <tr>\n",
       "      <th>0</th>\n",
       "      <td>2023-03-19</td>\n",
       "      <td>GOOGL</td>\n",
       "      <td>Television usage dips in February - but stream...</td>\n",
       "    </tr>\n",
       "    <tr>\n",
       "      <th>1</th>\n",
       "      <td>2023-03-20</td>\n",
       "      <td>GOOGL</td>\n",
       "      <td>Big Techs Race To Capitalize On AI, Says Munst...</td>\n",
       "    </tr>\n",
       "    <tr>\n",
       "      <th>2</th>\n",
       "      <td>2023-03-21</td>\n",
       "      <td>GOOGL</td>\n",
       "      <td>S&amp;P 500 Hits 4,000, Bank Stocks Soar, Treasury...</td>\n",
       "    </tr>\n",
       "    <tr>\n",
       "      <th>3</th>\n",
       "      <td>2023-03-22</td>\n",
       "      <td>GOOGL</td>\n",
       "      <td>Analysts Are Bullish on Top Technology Stocks:...</td>\n",
       "    </tr>\n",
       "    <tr>\n",
       "      <th>4</th>\n",
       "      <td>2023-03-23</td>\n",
       "      <td>GOOGL</td>\n",
       "      <td>5 Best Technology Stocks to Invest in Now, Acc...</td>\n",
       "    </tr>\n",
       "    <tr>\n",
       "      <th>...</th>\n",
       "      <td>...</td>\n",
       "      <td>...</td>\n",
       "      <td>...</td>\n",
       "    </tr>\n",
       "    <tr>\n",
       "      <th>410</th>\n",
       "      <td>2024-06-12</td>\n",
       "      <td>GOOGL</td>\n",
       "      <td>Alphabet Class A (GOOGL) Receives a Buy from E...</td>\n",
       "    </tr>\n",
       "    <tr>\n",
       "      <th>411</th>\n",
       "      <td>2024-06-13</td>\n",
       "      <td>GOOGL</td>\n",
       "      <td>Screaming Buys- 3 Tech Stocks That Are Just Be...</td>\n",
       "    </tr>\n",
       "    <tr>\n",
       "      <th>412</th>\n",
       "      <td>2024-06-14</td>\n",
       "      <td>GOOGL</td>\n",
       "      <td>3 Stocks to Catapult Your $100K Into a Cool Mi...</td>\n",
       "    </tr>\n",
       "    <tr>\n",
       "      <th>413</th>\n",
       "      <td>2024-06-15</td>\n",
       "      <td>GOOGL</td>\n",
       "      <td>Why Intel Stock Is Undervalued and Well-Positi...</td>\n",
       "    </tr>\n",
       "    <tr>\n",
       "      <th>414</th>\n",
       "      <td>2024-06-17</td>\n",
       "      <td>GOOGL</td>\n",
       "      <td>The 7 Best Autonomous Driving Stocks to Buy in...</td>\n",
       "    </tr>\n",
       "  </tbody>\n",
       "</table>\n",
       "<p>415 rows × 3 columns</p>\n",
       "</div>"
      ],
      "text/plain": [
       "           date ticker                                              title\n",
       "0    2023-03-19  GOOGL  Television usage dips in February - but stream...\n",
       "1    2023-03-20  GOOGL  Big Techs Race To Capitalize On AI, Says Munst...\n",
       "2    2023-03-21  GOOGL  S&P 500 Hits 4,000, Bank Stocks Soar, Treasury...\n",
       "3    2023-03-22  GOOGL  Analysts Are Bullish on Top Technology Stocks:...\n",
       "4    2023-03-23  GOOGL  5 Best Technology Stocks to Invest in Now, Acc...\n",
       "..          ...    ...                                                ...\n",
       "410  2024-06-12  GOOGL  Alphabet Class A (GOOGL) Receives a Buy from E...\n",
       "411  2024-06-13  GOOGL  Screaming Buys- 3 Tech Stocks That Are Just Be...\n",
       "412  2024-06-14  GOOGL  3 Stocks to Catapult Your $100K Into a Cool Mi...\n",
       "413  2024-06-15  GOOGL  Why Intel Stock Is Undervalued and Well-Positi...\n",
       "414  2024-06-17  GOOGL  The 7 Best Autonomous Driving Stocks to Buy in...\n",
       "\n",
       "[415 rows x 3 columns]"
      ]
     },
     "execution_count": 5,
     "metadata": {},
     "output_type": "execute_result"
    }
   ],
   "source": [
    "print(combined_stock_news.shape)\n",
    "combined_stock_news"
   ]
  },
  {
   "cell_type": "code",
   "execution_count": 12,
   "metadata": {},
   "outputs": [],
   "source": [
    "def fetch_stock_prices(ticker, date):\n",
    "    stock = yf.Ticker(ticker)\n",
    "    start_date = pd.to_datetime(date)\n",
    "    end_date = start_date + pd.Timedelta(days=1)\n",
    "    \n",
    "    hist = stock.history(start=start_date, end=end_date)\n",
    "    # print(hist)\n",
    "    if not hist.empty:\n",
    "        open_price = hist['Open'][0]\n",
    "        high_price = hist['High'][0]\n",
    "        low_price = hist['Low'][0]\n",
    "        close_price = hist['Close'][0]\n",
    "        adjusted_close = hist['Adj Close'][0]\n",
    "        vol = hist['Volume'][0]\n",
    "        return open_price, high_price, low_price, close_price ,adjusted_close, vol\n",
    "    else:\n",
    "        return None, None, None, None , None, None\n",
    "    "
   ]
  },
  {
   "cell_type": "code",
   "execution_count": null,
   "metadata": {},
   "outputs": [],
   "source": [
    "\n",
    "price_data = combined_stock_news.apply(lambda row: fetch_stock_prices(row['ticker'], row['date']), axis=1)\n",
    "combined_stock_news[['open', 'high', 'low', 'close','Adj Close', 'vol']] = pd.DataFrame(price_data.tolist(), index=combined_stock_news.index)"
   ]
  },
  {
   "cell_type": "code",
   "execution_count": 21,
   "metadata": {},
   "outputs": [
    {
     "data": {
      "text/plain": [
       "date   ticker  title  open   high   low    close  vol  \n",
       "False  False   False  False  False  False  False  False    313\n",
       "                      True   True   True   True   True     102\n",
       "Name: count, dtype: int64"
      ]
     },
     "execution_count": 21,
     "metadata": {},
     "output_type": "execute_result"
    }
   ],
   "source": [
    "combined_stock_news.isnull().value_counts()"
   ]
  },
  {
   "cell_type": "code",
   "execution_count": 22,
   "metadata": {},
   "outputs": [],
   "source": [
    "combined_stock_news = combined_stock_news.dropna(subset=['open', 'high', 'low', 'close','vol']).reset_index()"
   ]
  },
  {
   "cell_type": "code",
   "execution_count": null,
   "metadata": {},
   "outputs": [],
   "source": [
    "combined_stock_news"
   ]
  },
  {
   "cell_type": "code",
   "execution_count": 26,
   "metadata": {},
   "outputs": [],
   "source": [
    "stock_news = pd.read_csv('Scrabed_Dataset_for_Differnt_Stocks\\combined_with_price.csv',usecols=['date', 'ticker', 'title', 'open', 'high', 'low', 'close'])\n",
    "\n",
    "# Sort by ticker and date to ensure proper time series order\n",
    "stock_news= stock_news.sort_values(by=['ticker', 'date'])\n",
    "# stock_news"
   ]
  },
  {
   "cell_type": "markdown",
   "metadata": {},
   "source": [
    "**Calculate the price movement**:\n",
    "   - We need to define a time horizon (e.g., 1 day, 3 days, 1 week).\n",
    "   - Calculate the percentage change in the closing price over this horizon.\n",
    "\n",
    "```python"
   ]
  },
  {
   "cell_type": "code",
   "execution_count": 6,
   "metadata": {},
   "outputs": [],
   "source": [
    "# Define the time horizon (e.g., 1 day)\n",
    "time_horizon = 1  \n",
    "\n",
    "stock_news['future_close'] = stock_news.groupby('ticker')['close'].shift(-time_horizon)\n",
    "\n",
    "stock_news['price_movement'] = ((stock_news['future_close'] - stock_news['close']) / stock_news['close']) * 100\n",
    "\n",
    "stock_news =stock_news.dropna(subset=['future_close'])"
   ]
  },
  {
   "cell_type": "code",
   "execution_count": 7,
   "metadata": {},
   "outputs": [
    {
     "data": {
      "text/html": [
       "<div>\n",
       "<style scoped>\n",
       "    .dataframe tbody tr th:only-of-type {\n",
       "        vertical-align: middle;\n",
       "    }\n",
       "\n",
       "    .dataframe tbody tr th {\n",
       "        vertical-align: top;\n",
       "    }\n",
       "\n",
       "    .dataframe thead th {\n",
       "        text-align: right;\n",
       "    }\n",
       "</style>\n",
       "<table border=\"1\" class=\"dataframe\">\n",
       "  <thead>\n",
       "    <tr style=\"text-align: right;\">\n",
       "      <th></th>\n",
       "      <th>date</th>\n",
       "      <th>ticker</th>\n",
       "      <th>title</th>\n",
       "      <th>open</th>\n",
       "      <th>high</th>\n",
       "      <th>low</th>\n",
       "      <th>close</th>\n",
       "      <th>future_close</th>\n",
       "      <th>price_movement</th>\n",
       "      <th>movement_label</th>\n",
       "    </tr>\n",
       "  </thead>\n",
       "  <tbody>\n",
       "    <tr>\n",
       "      <th>51</th>\n",
       "      <td>2012-12-20</td>\n",
       "      <td>ADBE</td>\n",
       "      <td>Adobe acquires social media firm Behance as it...</td>\n",
       "      <td>38.080002</td>\n",
       "      <td>38.160000</td>\n",
       "      <td>37.790001</td>\n",
       "      <td>37.869999</td>\n",
       "      <td>43.360001</td>\n",
       "      <td>14.496968</td>\n",
       "      <td>1</td>\n",
       "    </tr>\n",
       "    <tr>\n",
       "      <th>112</th>\n",
       "      <td>2013-06-18</td>\n",
       "      <td>ADBE</td>\n",
       "      <td>Adobe Systems profit beats as Creative Cloud s...</td>\n",
       "      <td>43.549999</td>\n",
       "      <td>44.200001</td>\n",
       "      <td>43.220001</td>\n",
       "      <td>43.360001</td>\n",
       "      <td>45.779999</td>\n",
       "      <td>5.581177</td>\n",
       "      <td>1</td>\n",
       "    </tr>\n",
       "    <tr>\n",
       "      <th>114</th>\n",
       "      <td>2013-06-19</td>\n",
       "      <td>ADBE</td>\n",
       "      <td>Adobe expects third-quarter Creative Cloud sub...</td>\n",
       "      <td>46.430000</td>\n",
       "      <td>46.439999</td>\n",
       "      <td>45.349998</td>\n",
       "      <td>45.779999</td>\n",
       "      <td>54.860001</td>\n",
       "      <td>19.833993</td>\n",
       "      <td>1</td>\n",
       "    </tr>\n",
       "    <tr>\n",
       "      <th>175</th>\n",
       "      <td>2013-10-29</td>\n",
       "      <td>ADBE</td>\n",
       "      <td>Adobe data breach more extensive than previous...</td>\n",
       "      <td>54.000000</td>\n",
       "      <td>55.119999</td>\n",
       "      <td>53.910000</td>\n",
       "      <td>54.860001</td>\n",
       "      <td>68.519997</td>\n",
       "      <td>24.899737</td>\n",
       "      <td>1</td>\n",
       "    </tr>\n",
       "    <tr>\n",
       "      <th>226</th>\n",
       "      <td>2014-03-18</td>\n",
       "      <td>ADBE</td>\n",
       "      <td>Adobe results beat estimates as web-based subs...</td>\n",
       "      <td>67.660004</td>\n",
       "      <td>70.239998</td>\n",
       "      <td>67.519997</td>\n",
       "      <td>68.519997</td>\n",
       "      <td>70.730003</td>\n",
       "      <td>3.225346</td>\n",
       "      <td>1</td>\n",
       "    </tr>\n",
       "  </tbody>\n",
       "</table>\n",
       "</div>"
      ],
      "text/plain": [
       "           date ticker                                              title  \\\n",
       "51   2012-12-20   ADBE  Adobe acquires social media firm Behance as it...   \n",
       "112  2013-06-18   ADBE  Adobe Systems profit beats as Creative Cloud s...   \n",
       "114  2013-06-19   ADBE  Adobe expects third-quarter Creative Cloud sub...   \n",
       "175  2013-10-29   ADBE  Adobe data breach more extensive than previous...   \n",
       "226  2014-03-18   ADBE  Adobe results beat estimates as web-based subs...   \n",
       "\n",
       "          open       high        low      close  future_close  price_movement  \\\n",
       "51   38.080002  38.160000  37.790001  37.869999     43.360001       14.496968   \n",
       "112  43.549999  44.200001  43.220001  43.360001     45.779999        5.581177   \n",
       "114  46.430000  46.439999  45.349998  45.779999     54.860001       19.833993   \n",
       "175  54.000000  55.119999  53.910000  54.860001     68.519997       24.899737   \n",
       "226  67.660004  70.239998  67.519997  68.519997     70.730003        3.225346   \n",
       "\n",
       "     movement_label  \n",
       "51                1  \n",
       "112               1  \n",
       "114               1  \n",
       "175               1  \n",
       "226               1  "
      ]
     },
     "execution_count": 7,
     "metadata": {},
     "output_type": "execute_result"
    }
   ],
   "source": [
    "increase_threshold = -1  # Example: 1% increase\n",
    "decrease_threshold = -1  # Example: 1% decrease\n",
    "\n",
    "# Function to label the price movement\n",
    "# 1->increase, 0->no change, -1->decrease\n",
    "def label_movement(movement):\n",
    "    if movement >= increase_threshold:\n",
    "        return 1\n",
    "    elif movement < decrease_threshold:\n",
    "        return 0\n",
    "    # else:\n",
    "    #     return -1\n",
    "\n",
    "# Apply the labeling function\n",
    "stock_news['movement_label'] = stock_news['price_movement'].apply(label_movement)\n",
    "stock_news.head()"
   ]
  },
  {
   "cell_type": "markdown",
   "metadata": {},
   "source": [
    "#### **To preprocess the textual data, we will**:\n",
    "   - Remove noise: Remove unwanted characters, numbers, and symbols.\n",
    "   - Tokenize text: Split text into words or phrases.\n",
    "   - Apply stemming and lemmatization: Standardize text representations to their root forms.\n",
    "\n",
    "```python"
   ]
  },
  {
   "cell_type": "code",
   "execution_count": 8,
   "metadata": {},
   "outputs": [],
   "source": [
    "# !pip install nltk spacy\n",
    "# !python -m spacy download en_core_web_sm"
   ]
  },
  {
   "cell_type": "code",
   "execution_count": 32,
   "metadata": {},
   "outputs": [
    {
     "name": "stderr",
     "output_type": "stream",
     "text": [
      "[nltk_data] Downloading package punkt to\n",
      "[nltk_data]     C:\\Users\\yashu\\AppData\\Roaming\\nltk_data...\n",
      "[nltk_data]   Package punkt is already up-to-date!\n",
      "[nltk_data] Downloading package stopwords to\n",
      "[nltk_data]     C:\\Users\\yashu\\AppData\\Roaming\\nltk_data...\n",
      "[nltk_data]   Package stopwords is already up-to-date!\n",
      "[nltk_data] Downloading package wordnet to\n",
      "[nltk_data]     C:\\Users\\yashu\\AppData\\Roaming\\nltk_data...\n",
      "[nltk_data]   Package wordnet is already up-to-date!\n"
     ]
    },
    {
     "data": {
      "text/plain": [
       "True"
      ]
     },
     "execution_count": 32,
     "metadata": {},
     "output_type": "execute_result"
    }
   ],
   "source": [
    "import re\n",
    "import nltk\n",
    "from nltk.corpus import stopwords\n",
    "from nltk.tokenize import word_tokenize\n",
    "from nltk.stem import PorterStemmer\n",
    "from nltk.stem import WordNetLemmatizer\n",
    "from tqdm.notebook import tqdm\n",
    "# import spacy\n",
    "# import gensim\n",
    "# Download necessary NLTK data files\n",
    "nltk.download('punkt')\n",
    "nltk.download('stopwords')\n",
    "nltk.download('wordnet')\n",
    "\n",
    "# Load Spacy English model\n",
    "# nlp = spacy.load('en_core_web_sm')"
   ]
  },
  {
   "cell_type": "code",
   "execution_count": 30,
   "metadata": {},
   "outputs": [],
   "source": [
    "# text preprocessing function\n",
    "\n",
    "def preprocess_text(text):\n",
    "        # Convert text to lowercase\n",
    "        text = text.lower()\n",
    "        \n",
    "        # Remove special characters, numbers, and symbols\n",
    "        text = re.sub(r'[^a-z\\s]', '', text)\n",
    "        text = re.sub(r'[^\\w\\s]', '', text)\n",
    "        \n",
    "        # Tokenize the text\n",
    "        tokens = word_tokenize(text)\n",
    "        \n",
    "        # Remove stop words\n",
    "        stop_words = set(stopwords.words('english'))\n",
    "        tokens = [word for word in tokens if word not in stop_words]\n",
    "        \n",
    "        # Apply stemming\n",
    "        stemmer = PorterStemmer()\n",
    "        tokens = [stemmer.stem(word) for word in tokens]\n",
    "        \n",
    "        # Apply lemmatization\n",
    "        lemmatizer = WordNetLemmatizer()\n",
    "        tokens = [lemmatizer.lemmatize(word ,pos ='v') for word in tokens]\n",
    "        \n",
    "        return ' '.join(tokens)\n",
    "\n",
    "stock_news['preprocessed_text'] = stock_news['title'].apply(preprocess_text)"
   ]
  },
  {
   "cell_type": "code",
   "execution_count": 34,
   "metadata": {},
   "outputs": [],
   "source": [
    "# stock_news"
   ]
  },
  {
   "cell_type": "markdown",
   "metadata": {},
   "source": []
  },
  {
   "cell_type": "code",
   "execution_count": 12,
   "metadata": {},
   "outputs": [],
   "source": [
    "# !pip install scikit-learn\n",
    "# !pip install -U textblob\n",
    "# !python -m textblob.download_corpora\n",
    "# !pip install gensim==3.6.0\n",
    "\n",
    "# !pip install scipy==1.12"
   ]
  },
  {
   "cell_type": "code",
   "execution_count": 36,
   "metadata": {},
   "outputs": [],
   "source": [
    "from sklearn.feature_extraction.text import CountVectorizer, TfidfVectorizer\n",
    "from textblob import TextBlob\n",
    "from sklearn.decomposition import LatentDirichletAllocation"
   ]
  },
  {
   "cell_type": "code",
   "execution_count": 37,
   "metadata": {},
   "outputs": [
    {
     "name": "stderr",
     "output_type": "stream",
     "text": [
      "[nltk_data] Downloading package vader_lexicon to\n",
      "[nltk_data]     C:\\Users\\yashu\\AppData\\Roaming\\nltk_data...\n",
      "[nltk_data]   Package vader_lexicon is already up-to-date!\n"
     ]
    },
    {
     "data": {
      "text/plain": [
       "True"
      ]
     },
     "execution_count": 37,
     "metadata": {},
     "output_type": "execute_result"
    }
   ],
   "source": [
    "from nltk.sentiment.vader import SentimentIntensityAnalyzer\n",
    "nltk.download('vader_lexicon')"
   ]
  },
  {
   "cell_type": "code",
   "execution_count": 45,
   "metadata": {},
   "outputs": [],
   "source": [
    "def apply_vader_sentiment(df, text_column):\n",
    "\n",
    "    analyzer = SentimentIntensityAnalyzer()\n",
    "    \n",
    "    def get_vader_sentiment(text):\n",
    "        scores = analyzer.polarity_scores(text)\n",
    "        return scores['neg'], scores['neu'], scores['pos'], scores['compound']\n",
    "    \n",
    "    vader_sentiments = df[text_column].apply(get_vader_sentiment)\n",
    "    df['vader_neg'] = vader_sentiments.apply(lambda x: x[0])\n",
    "    df['vader_neu'] = vader_sentiments.apply(lambda x: x[1])\n",
    "    df['vader_pos'] = vader_sentiments.apply(lambda x: x[2])\n",
    "    df['vader_compound'] = vader_sentiments.apply(lambda x: x[3])\n",
    "\n",
    "    # Classify the sentiment based on compound score\n",
    "    def classify_sentiment(compound_score):\n",
    "        if compound_score >= -0.05:\n",
    "            return 1\n",
    "        elif compound_score < -0.05:\n",
    "            return 0\n",
    "    \n",
    "    df['vader_prediction'] = df['vader_compound'].apply(classify_sentiment)\n",
    "    \n",
    "    return df\n",
    "\n",
    "stock_pre_processed_news = apply_vader_sentiment(stock_news, 'preprocessed_text')"
   ]
  },
  {
   "cell_type": "code",
   "execution_count": 46,
   "metadata": {},
   "outputs": [],
   "source": [
    "# stock_pre_processed_news.head(10)"
   ]
  },
  {
   "cell_type": "code",
   "execution_count": 47,
   "metadata": {},
   "outputs": [
    {
     "name": "stdout",
     "output_type": "stream",
     "text": [
      "vader Accuracy: 65.40835 % \n",
      "\n"
     ]
    }
   ],
   "source": [
    "# Print Vader sentiment accuracy\n",
    "print('vader Accuracy:', round((len(stock_pre_processed_news[stock_pre_processed_news['movement_label']==    stock_pre_processed_news['vader_prediction']])/len(stock_pre_processed_news)) *100, 5), '%', '\\n')"
   ]
  },
  {
   "cell_type": "markdown",
   "metadata": {},
   "source": [
    "#### Visualizing the Accuracy of Vedar Model"
   ]
  },
  {
   "cell_type": "code",
   "execution_count": 48,
   "metadata": {},
   "outputs": [
    {
     "data": {
      "image/png": "[encoded data removed]",
      "text/plain": [
       "<Figure size 640x480 with 1 Axes>"
      ]
     },
     "metadata": {},
     "output_type": "display_data"
    }
   ],
   "source": [
    "# Plot Vader sentiment accuracy\n",
    "import matplotlib.pyplot as plt\n",
    "labels = ['Correct Predictions', 'Incorrect Predictions']\n",
    "sizes = [len(stock_pre_processed_news[stock_pre_processed_news['movement_label'] == stock_pre_processed_news['vader_prediction']]), len(stock_pre_processed_news[stock_pre_processed_news['movement_label'] != stock_pre_processed_news['vader_prediction']])]\n",
    "colors = ['#66BB6A', '#EF5350']\n",
    "plt.pie(sizes, labels=labels, colors=colors, autopct='%1.1f%%', startangle=90)\n",
    "plt.axis('equal')\n",
    "\n",
    "plt.title('Vader Sentiment Accuracy')\n",
    "plt.show()"
   ]
  },
  {
   "cell_type": "markdown",
   "metadata": {},
   "source": [
    "#### Model Fitting and Training"
   ]
  },
  {
   "cell_type": "code",
   "execution_count": 49,
   "metadata": {},
   "outputs": [],
   "source": [
    "# !pip install xgboost"
   ]
  },
  {
   "cell_type": "code",
   "execution_count": 50,
   "metadata": {},
   "outputs": [],
   "source": [
    "from sklearn.naive_bayes import MultinomialNB #Model\n",
    "from sklearn.naive_bayes import GaussianNB,MultinomialNB,BernoulliNB\n",
    "from sklearn.metrics import classification_report, roc_curve, roc_auc_score, accuracy_score, precision_score, recall_score, f1_score\n",
    "\n",
    "from sklearn.linear_model import LogisticRegression\n",
    "from sklearn.svm import SVC\n",
    "from sklearn.ensemble import RandomForestClassifier\n",
    "from sklearn.neural_network import MLPClassifier\n",
    "from sklearn.tree import DecisionTreeClassifier\n",
    "from sklearn.neighbors import KNeighborsClassifier\n",
    "from sklearn.ensemble import AdaBoostClassifier\n",
    "from sklearn.ensemble import BaggingClassifier\n",
    "from sklearn.ensemble import ExtraTreesClassifier\n",
    "from sklearn.ensemble import GradientBoostingClassifier\n",
    "from xgboost import XGBClassifier\n",
    "\n",
    "from sklearn.model_selection import train_test_split\n",
    "from sklearn.model_selection import StratifiedKFold, cross_val_score #for model accuracy"
   ]
  },
  {
   "cell_type": "code",
   "execution_count": 51,
   "metadata": {},
   "outputs": [
    {
     "name": "stdout",
     "output_type": "stream",
     "text": [
      "(8816,) (8816,)\n",
      "(2204,) (2204,)\n"
     ]
    }
   ],
   "source": [
    "X_train,X_test,y_train,y_test = train_test_split(stock_pre_processed_news['preprocessed_text'],stock_pre_processed_news['movement_label'],test_size=0.2,random_state=42)\n",
    "\n",
    "print(X_train.shape, y_train.shape)\n",
    "print(X_test.shape, y_test.shape )"
   ]
  },
  {
   "cell_type": "code",
   "execution_count": 54,
   "metadata": {},
   "outputs": [
    {
     "ename": "ImportError",
     "evalue": "cannot import name 'Mapping' from 'collections' (c:\\Users\\yashu\\AppData\\Local\\Programs\\Python\\Python312\\Lib\\collections\\__init__.py)",
     "output_type": "error",
     "traceback": [
      "\u001b[1;31m---------------------------------------------------------------------------\u001b[0m",
      "\u001b[1;31mImportError\u001b[0m                               Traceback (most recent call last)",
      "Cell \u001b[1;32mIn[54], line 3\u001b[0m\n\u001b[0;32m      1\u001b[0m \u001b[38;5;66;03m# !pip install gensim\u001b[39;00m\n\u001b[0;32m      2\u001b[0m \u001b[38;5;28;01mimport\u001b[39;00m \u001b[38;5;21;01mnltk\u001b[39;00m\n\u001b[1;32m----> 3\u001b[0m \u001b[38;5;28;01mfrom\u001b[39;00m \u001b[38;5;21;01mgensim\u001b[39;00m\u001b[38;5;21;01m.\u001b[39;00m\u001b[38;5;21;01mmodels\u001b[39;00m \u001b[38;5;28;01mimport\u001b[39;00m Word2Vec\n\u001b[0;32m      4\u001b[0m \u001b[38;5;28;01mfrom\u001b[39;00m \u001b[38;5;21;01mnltk\u001b[39;00m\u001b[38;5;21;01m.\u001b[39;00m\u001b[38;5;21;01mcorpus\u001b[39;00m \u001b[38;5;28;01mimport\u001b[39;00m brown\n\u001b[0;32m      5\u001b[0m \u001b[38;5;28;01mimport\u001b[39;00m \u001b[38;5;21;01mnumpy\u001b[39;00m \u001b[38;5;28;01mas\u001b[39;00m \u001b[38;5;21;01mnp\u001b[39;00m\n",
      "File \u001b[1;32mc:\\Users\\yashu\\AppData\\Local\\Programs\\Python\\Python312\\Lib\\site-packages\\gensim\\__init__.py:5\u001b[0m\n\u001b[0;32m      1\u001b[0m \u001b[38;5;124;03m\"\"\"This package contains interfaces and functionality to compute pair-wise document similarities within a corpus\u001b[39;00m\n\u001b[0;32m      2\u001b[0m \u001b[38;5;124;03mof documents.\u001b[39;00m\n\u001b[0;32m      3\u001b[0m \u001b[38;5;124;03m\"\"\"\u001b[39;00m\n\u001b[1;32m----> 5\u001b[0m \u001b[38;5;28;01mfrom\u001b[39;00m \u001b[38;5;21;01mgensim\u001b[39;00m \u001b[38;5;28;01mimport\u001b[39;00m parsing, corpora, matutils, interfaces, models, similarities, summarization, utils  \u001b[38;5;66;03m# noqa:F401\u001b[39;00m\n\u001b[0;32m      6\u001b[0m \u001b[38;5;28;01mimport\u001b[39;00m \u001b[38;5;21;01mlogging\u001b[39;00m\n\u001b[0;32m      8\u001b[0m __version__ \u001b[38;5;241m=\u001b[39m \u001b[38;5;124m'\u001b[39m\u001b[38;5;124m3.6.0\u001b[39m\u001b[38;5;124m'\u001b[39m\n",
      "File \u001b[1;32mc:\\Users\\yashu\\AppData\\Local\\Programs\\Python\\Python312\\Lib\\site-packages\\gensim\\corpora\\__init__.py:12\u001b[0m\n\u001b[0;32m     10\u001b[0m \u001b[38;5;28;01mfrom\u001b[39;00m \u001b[38;5;21;01m.\u001b[39;00m\u001b[38;5;21;01msvmlightcorpus\u001b[39;00m \u001b[38;5;28;01mimport\u001b[39;00m SvmLightCorpus  \u001b[38;5;66;03m# noqa:F401\u001b[39;00m\n\u001b[0;32m     11\u001b[0m \u001b[38;5;28;01mfrom\u001b[39;00m \u001b[38;5;21;01m.\u001b[39;00m\u001b[38;5;21;01mlowcorpus\u001b[39;00m \u001b[38;5;28;01mimport\u001b[39;00m LowCorpus  \u001b[38;5;66;03m# noqa:F401\u001b[39;00m\n\u001b[1;32m---> 12\u001b[0m \u001b[38;5;28;01mfrom\u001b[39;00m \u001b[38;5;21;01m.\u001b[39;00m\u001b[38;5;21;01mdictionary\u001b[39;00m \u001b[38;5;28;01mimport\u001b[39;00m Dictionary  \u001b[38;5;66;03m# noqa:F401\u001b[39;00m\n\u001b[0;32m     13\u001b[0m \u001b[38;5;28;01mfrom\u001b[39;00m \u001b[38;5;21;01m.\u001b[39;00m\u001b[38;5;21;01mhashdictionary\u001b[39;00m \u001b[38;5;28;01mimport\u001b[39;00m HashDictionary  \u001b[38;5;66;03m# noqa:F401\u001b[39;00m\n\u001b[0;32m     14\u001b[0m \u001b[38;5;28;01mfrom\u001b[39;00m \u001b[38;5;21;01m.\u001b[39;00m\u001b[38;5;21;01mwikicorpus\u001b[39;00m \u001b[38;5;28;01mimport\u001b[39;00m WikiCorpus  \u001b[38;5;66;03m# noqa:F401\u001b[39;00m\n",
      "File \u001b[1;32mc:\\Users\\yashu\\AppData\\Local\\Programs\\Python\\Python312\\Lib\\site-packages\\gensim\\corpora\\dictionary.py:11\u001b[0m\n\u001b[0;32m      7\u001b[0m \u001b[38;5;124;03m\"\"\"This module implements the concept of a Dictionary -- a mapping between words and their integer ids.\"\"\"\u001b[39;00m\n\u001b[0;32m      9\u001b[0m \u001b[38;5;28;01mfrom\u001b[39;00m \u001b[38;5;21;01m__future__\u001b[39;00m \u001b[38;5;28;01mimport\u001b[39;00m with_statement\n\u001b[1;32m---> 11\u001b[0m \u001b[38;5;28;01mfrom\u001b[39;00m \u001b[38;5;21;01mcollections\u001b[39;00m \u001b[38;5;28;01mimport\u001b[39;00m Mapping, defaultdict\n\u001b[0;32m     12\u001b[0m \u001b[38;5;28;01mimport\u001b[39;00m \u001b[38;5;21;01msys\u001b[39;00m\n\u001b[0;32m     13\u001b[0m \u001b[38;5;28;01mimport\u001b[39;00m \u001b[38;5;21;01mlogging\u001b[39;00m\n",
      "\u001b[1;31mImportError\u001b[0m: cannot import name 'Mapping' from 'collections' (c:\\Users\\yashu\\AppData\\Local\\Programs\\Python\\Python312\\Lib\\collections\\__init__.py)"
     ]
    }
   ],
   "source": [
    "\n"
   ]
  },
  {
   "cell_type": "code",
   "execution_count": 34,
   "metadata": {},
   "outputs": [],
   "source": [
    "#Initilize Vectorizer\n",
    "\n",
    "tf_idf = TfidfVectorizer(ngram_range = (1,4),max_features= 10000,binary=True,\n",
    "                         smooth_idf=False)\n",
    "\n",
    "\n",
    "# Get TF-IDF for Train and Test data\n",
    "X_total = tf_idf.fit_transform(stock_pre_processed_news['preprocessed_text'])\n",
    "y =stock_pre_processed_news['movement_label']\n",
    "X_train_tfidf = tf_idf.fit_transform(X_train)\n",
    "X_test_tfidf = tf_idf.transform(X_test)"
   ]
  },
  {
   "cell_type": "code",
   "execution_count": 35,
   "metadata": {},
   "outputs": [],
   "source": [
    "# Function to evaluate and plot ROC curves\n",
    "def evaluate_model(model, X_train, X_test, y_train, y_test, model_name):\n",
    "    # Train the model\n",
    "    model.fit(X_train, y_train)\n",
    "    \n",
    "    # Predict on test data\n",
    "    y_pred = model.predict(X_test)\n",
    "    y_pred_proba = model.predict_proba(X_test)[:, 1] if hasattr(model, \"predict_proba\") else model.decision_function(X_test)\n",
    "    \n",
    "    # Evaluate the model\n",
    "    accuracy = accuracy_score(y_test, y_pred)\n",
    "    precision = precision_score(y_test, y_pred)\n",
    "    recall = recall_score(y_test, y_pred)\n",
    "    f1 = f1_score(y_test, y_pred)\n",
    "    roc_auc = roc_auc_score(y_test, y_pred_proba)\n",
    "    \n",
    "    print(f\"{model_name} Classification Report:\")\n",
    "    print(classification_report(y_test, y_pred))\n",
    "    \n",
    "    # Plot ROC curve\n",
    "    fpr, tpr, _ = roc_curve(y_test, y_pred_proba)\n",
    "    plt.plot(fpr, tpr, label=f\"{model_name} (AUC = {roc_auc:.2f})\")\n",
    "    \n",
    "    return accuracy, precision, recall, f1, roc_auc"
   ]
  },
  {
   "cell_type": "code",
   "execution_count": 36,
   "metadata": {},
   "outputs": [
    {
     "name": "stdout",
     "output_type": "stream",
     "text": [
      "Logistic Regression Classification Report:\n",
      "              precision    recall  f1-score   support\n",
      "\n",
      "           0       0.58      0.04      0.07       567\n",
      "           1       0.75      0.99      0.85      1637\n",
      "\n",
      "    accuracy                           0.75      2204\n",
      "   macro avg       0.67      0.51      0.46      2204\n",
      "weighted avg       0.71      0.75      0.65      2204\n",
      "\n",
      "Logistic Regression - Accuracy: 0.75, Precision: 0.75, Recall: 0.99, F1-Score: 0.85, AUC: 0.61\n",
      "\n",
      "SVM Classification Report:\n",
      "              precision    recall  f1-score   support\n",
      "\n",
      "           0       0.62      0.02      0.03       567\n",
      "           1       0.75      1.00      0.85      1637\n",
      "\n",
      "    accuracy                           0.74      2204\n",
      "   macro avg       0.69      0.51      0.44      2204\n",
      "weighted avg       0.71      0.74      0.64      2204\n",
      "\n",
      "SVM - Accuracy: 0.74, Precision: 0.75, Recall: 1.00, F1-Score: 0.85, AUC: 0.62\n",
      "\n",
      "Random Forest Classification Report:\n",
      "              precision    recall  f1-score   support\n",
      "\n",
      "           0       0.44      0.09      0.15       567\n",
      "           1       0.75      0.96      0.84      1637\n",
      "\n",
      "    accuracy                           0.74      2204\n",
      "   macro avg       0.60      0.52      0.50      2204\n",
      "weighted avg       0.67      0.74      0.67      2204\n",
      "\n",
      "Random Forest - Accuracy: 0.74, Precision: 0.75, Recall: 0.96, F1-Score: 0.84, AUC: 0.59\n",
      "\n",
      "Neural Network Classification Report:\n",
      "              precision    recall  f1-score   support\n",
      "\n",
      "           0       0.34      0.32      0.33       567\n",
      "           1       0.77      0.79      0.78      1637\n",
      "\n",
      "    accuracy                           0.67      2204\n",
      "   macro avg       0.56      0.55      0.55      2204\n",
      "weighted avg       0.66      0.67      0.66      2204\n",
      "\n",
      "Neural Network - Accuracy: 0.67, Precision: 0.77, Recall: 0.79, F1-Score: 0.78, AUC: 0.60\n",
      "\n",
      "Naive bayers Classification Report:\n",
      "              precision    recall  f1-score   support\n",
      "\n",
      "           0       0.37      0.04      0.08       567\n",
      "           1       0.75      0.97      0.85      1637\n",
      "\n",
      "    accuracy                           0.74      2204\n",
      "   macro avg       0.56      0.51      0.46      2204\n",
      "weighted avg       0.65      0.74      0.65      2204\n",
      "\n",
      "Naive bayers - Accuracy: 0.74, Precision: 0.75, Recall: 0.97, F1-Score: 0.85, AUC: 0.60\n",
      "\n",
      "KN Classification Report:\n",
      "              precision    recall  f1-score   support\n",
      "\n",
      "           0       0.45      0.29      0.36       567\n",
      "           1       0.78      0.88      0.83      1637\n",
      "\n",
      "    accuracy                           0.73      2204\n",
      "   macro avg       0.62      0.59      0.59      2204\n",
      "weighted avg       0.70      0.73      0.71      2204\n",
      "\n",
      "KN - Accuracy: 0.73, Precision: 0.78, Recall: 0.88, F1-Score: 0.83, AUC: 0.63\n",
      "\n",
      "DT Classification Report:\n",
      "              precision    recall  f1-score   support\n",
      "\n",
      "           0       0.29      0.01      0.02       567\n",
      "           1       0.74      0.99      0.85      1637\n",
      "\n",
      "    accuracy                           0.74      2204\n",
      "   macro avg       0.52      0.50      0.43      2204\n",
      "weighted avg       0.63      0.74      0.64      2204\n",
      "\n",
      "DT - Accuracy: 0.74, Precision: 0.74, Recall: 0.99, F1-Score: 0.85, AUC: 0.52\n",
      "\n",
      "AdaBoost Classification Report:\n",
      "              precision    recall  f1-score   support\n",
      "\n",
      "           0       0.32      0.06      0.10       567\n",
      "           1       0.75      0.95      0.84      1637\n",
      "\n",
      "    accuracy                           0.73      2204\n",
      "   macro avg       0.53      0.51      0.47      2204\n",
      "weighted avg       0.64      0.73      0.65      2204\n",
      "\n",
      "AdaBoost - Accuracy: 0.73, Precision: 0.75, Recall: 0.95, F1-Score: 0.84, AUC: 0.55\n",
      "\n",
      "GBDT Classification Report:\n",
      "              precision    recall  f1-score   support\n",
      "\n",
      "           0       0.86      0.01      0.02       567\n",
      "           1       0.74      1.00      0.85      1637\n",
      "\n",
      "    accuracy                           0.75      2204\n",
      "   macro avg       0.80      0.50      0.44      2204\n",
      "weighted avg       0.77      0.75      0.64      2204\n",
      "\n",
      "GBDT - Accuracy: 0.75, Precision: 0.74, Recall: 1.00, F1-Score: 0.85, AUC: 0.56\n",
      "\n",
      "xgb Classification Report:\n",
      "              precision    recall  f1-score   support\n",
      "\n",
      "           0       0.33      0.05      0.08       567\n",
      "           1       0.75      0.97      0.84      1637\n",
      "\n",
      "    accuracy                           0.73      2204\n",
      "   macro avg       0.54      0.51      0.46      2204\n",
      "weighted avg       0.64      0.73      0.65      2204\n",
      "\n",
      "xgb - Accuracy: 0.73, Precision: 0.75, Recall: 0.97, F1-Score: 0.84, AUC: 0.58\n",
      "\n"
     ]
    },
    {
     "data": {
      "image/png": "[encoded data removed]",
      "text/plain": [
       "<Figure size 1000x800 with 1 Axes>"
      ]
     },
     "metadata": {},
     "output_type": "display_data"
    }
   ],
   "source": [
    "# Initialize models\n",
    "models = {\n",
    "    \"Logistic Regression\": LogisticRegression(),\n",
    "    \"SVM\": SVC(probability=True),\n",
    "    \"Random Forest\": RandomForestClassifier(),\n",
    "    \"Neural Network\": MLPClassifier(hidden_layer_sizes=(100,), max_iter=300, random_state=42),\n",
    "    \"Naive bayers\" : MultinomialNB(alpha=1),\n",
    "    'KN' : KNeighborsClassifier(),\n",
    "    'DT': DecisionTreeClassifier(max_depth=5),\n",
    "    'AdaBoost': AdaBoostClassifier(n_estimators=50, random_state=2),\n",
    "    'GBDT':GradientBoostingClassifier(n_estimators=50,random_state=2),\n",
    "    'xgb':XGBClassifier(n_estimators=50,random_state=2)\n",
    "}\n",
    "\n",
    "# Evaluate each model and plot ROC curves\n",
    "plt.figure(figsize=(10, 8))\n",
    "for model_name, model in models.items():\n",
    "    accuracy, precision, recall, f1, roc_auc = evaluate_model(model, X_train_tfidf, X_test_tfidf, y_train, y_test, model_name)\n",
    "    print(f\"{model_name} - Accuracy: {accuracy:.2f}, Precision: {precision:.2f}, Recall: {recall:.2f}, F1-Score: {f1:.2f}, AUC: {roc_auc:.2f}\\n\")\n",
    "\n",
    "plt.plot([0, 1], [0, 1], 'k--')\n",
    "plt.xlabel('False Positive Rate')\n",
    "plt.ylabel('True Positive Rate')\n",
    "plt.title('ROC Curve')\n",
    "plt.legend()\n",
    "plt.show()"
   ]
  },
  {
   "cell_type": "code",
   "execution_count": null,
   "metadata": {},
   "outputs": [],
   "source": [
    "\n"
   ]
  },
  {
   "cell_type": "code",
   "execution_count": null,
   "metadata": {},
   "outputs": [],
   "source": []
  }
 ],
 "metadata": {
  "kernelspec": {
   "display_name": "Python 3",
   "language": "python",
   "name": "python3"
  },
  "language_info": {
   "codemirror_mode": {
    "name": "ipython",
    "version": 3
   },
   "file_extension": ".py",
   "mimetype": "text/x-python",
   "name": "python",
   "nbconvert_exporter": "python",
   "pygments_lexer": "ipython3",
   "version": "3.12.4"
  }
 },
 "nbformat": 4,
 "nbformat_minor": 2
}
